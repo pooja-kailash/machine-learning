{
  "nbformat": 4,
  "nbformat_minor": 0,
  "metadata": {
    "colab": {
      "provenance": []
    },
    "kernelspec": {
      "name": "python3",
      "display_name": "Python 3"
    },
    "language_info": {
      "name": "python"
    }
  },
  "cells": [
    {
      "cell_type": "markdown",
      "source": [
        "# Q.1. Explain the differences between AI, ML, Deep Learning (DL), and Data Science (DS).\n",
        "\n",
        "Ans\n",
        "\n",
        "\n",
        "Here are the deffrences:\n",
        "\n",
        "    Artificial Intelligence (AI)\n",
        "\n",
        "What it is: The overarching concept of making machines capable of mimicking human intelligence, such as reasoning, problem-solving, and decision-making.\n",
        "Goal: To build smart machines that can perform tasks that would typically require human intelligence.\n",
        "Scope: The broadest concept, encompassing all methods and techniques aimed at creating intelligent systems.\n",
        "\n",
        "    Machine Learning (ML)\n",
        "\n",
        "What it is: A subset of AI that focuses on developing algorithms that can learn from data and improve their performance on a task without being explicitly programmed.\n",
        "Goal: To enable machines to learn from experience and make predictions or decisions based on patterns in data.\n",
        "Scope: A practical approach to achieving AI by using statistical models to find patterns and make informed decisions.\n",
        "\n",
        "\n",
        "    Deep Learning (DL)\n",
        "\n",
        "\n",
        "What it is: A specialized subset of ML that uses layered artificial neural networks (ANNs) to model complex patterns in large datasets.\n",
        "Goal: To solve complex problems by mimicking the structure and function of the human brain through multi-layered neural networks.\n",
        "Scope: An advanced ML technique known for its high accuracy in tasks like image and speech recognition, especially with vast amounts of data.\n",
        "\n",
        "\n",
        "    Data Science (DS)\n",
        "What it is: An interdisciplinary field that uses scientific methods, processes, algorithms, and systems to extract knowledge and insights from structured and unstructured data.\n",
        "\n",
        "\n",
        "Goal: To find and interpret insights from complex datasets, including data cleaning, analysis, visualization, and interpretation.\n",
        "\n",
        "\n",
        "Scope: A broad field that can involve various techniques, including statistics, software engineering, and domain expertise, to uncover hidden patterns and communicate findings.\n"
      ],
      "metadata": {
        "id": "A5sxVUkrIiqG"
      }
    },
    {
      "cell_type": "markdown",
      "source": [
        "# Q.2. What are the types of machine learning? Describe each with one real-world example.\n",
        "\n",
        "\n",
        "Ans\n",
        "\n",
        "      1. Supervised Learning\n",
        "\n",
        "Description: This type of machine learning trains models using a dataset where both input and the desired output (labels) are provided. The goal is to learn a mapping function to predict the output for new, unseen data.\n",
        "Real-world Example: A spam email filter is a good example. It is trained on many emails that are already labeled as \"spam\" or \"not spam.\" The filter then uses this labeled data to learn patterns and accurately classify future emails as spam or not spam.\n",
        "\n",
        "    2. Unsupervised Learning\n",
        "Description: In unsupervised learning, the model is given unlabeled data and must find patterns, structures, or relationships within the data on its own, without predefined outputs.\n",
        "Real-world Example: Customer segmentation in e-commerce is a use case. An online store can use unsupervised learning to group its customers into different segments based on their purchasing habits, browsing history, and other data, even though no prior labels exist for these groups.\n",
        "\n",
        "    3. Reinforcement Learning\n",
        "Description: Reinforcement learning involves an agent that learns by taking actions in an environment to achieve a goal. The agent receives rewards for positive actions and penalties for negative ones, aiming to maximize its total accumulated reward over time through trial and error.\n",
        "Real-world Example: Self-driving cars use reinforcement learning. The car's \"agent\" learns to navigate complex environments by making decisions (like steering or braking) and receiving feedback (rewards for reaching the destination safely or penalties for accidents) to improve its driving behavior over time."
      ],
      "metadata": {
        "id": "HT-GkQe0Iimm"
      }
    },
    {
      "cell_type": "markdown",
      "source": [
        "# Q.3. Define overfitting, underfitting, and the bias-variance tradeoff in machine learning.\n",
        "\n",
        "\n",
        "Ans\n",
        "\n",
        "    Underfitting (High Bias)\n",
        "\n",
        "What it is: A model that is too simple to learn the patterns in the data.\n",
        "Characteristics:\n",
        "High error on the training data and the testing data.\n",
        "The model makes strong, incorrect assumptions about the data.\n",
        "Example: Trying to fit a straight line to data that has a clear curve.\n",
        "\n",
        "\n",
        "    Overfitting (High Variance)\n",
        "What it is: A model that is too complex and learns the training data, including noise and random fluctuations, too closely.\n",
        "Characteristics:\n",
        "Low error on the training data but high error on the testing data.\n",
        "The model becomes very sensitive to small changes in the training data and struggles to generalize.\n",
        "Example: A very high-degree polynomial that precisely hits every data point in the training set.\n",
        "\n",
        "\n",
        "    The Bias-Variance Tradeoff\n",
        "What it is: The inherent tension between bias and variance in a predictive model.\n",
        "The Relationship:\n",
        "Simple models: (e.g., underfitting models) have high bias and low variance.\n",
        "Complex models: (e.g., overfitting models) have low bias and high variance.\n",
        "\n",
        "\n",
        "The Goal: To achieve a well-balanced model by finding the optimal complexity that minimizes the total error, leading to good performance on both training and new data."
      ],
      "metadata": {
        "id": "JPBJJ6n8Iijs"
      }
    },
    {
      "cell_type": "markdown",
      "source": [
        "# Q.4.What are outliers in a dataset, and list three common techniques for handling them\n",
        "\n",
        "Ans\n",
        "\n",
        "Outliers in a dataset are data points that significantly differ from the majority of the data. They may result from variability in the data, errors in data collection or entry, or unusual but valid observations. Outliers can distort statistical analyses and machine learning models, so handling them appropriately is important.\n",
        "\n",
        "\n",
        "Three Common Techniques for Handling Outliers:\n",
        "\n",
        "    Removal (or Filtering):\n",
        "\n",
        "Description: Outliers are identified and removed from the dataset.\n",
        "\n",
        "Use Case: When outliers are due to errors or are not relevant to the analysis.\n",
        "\n",
        "Example: Removing data points beyond 3 standard deviations from the mean.\n",
        "\n",
        "    Transformation:\n",
        "\n",
        "Description: Apply mathematical transformations (e.g., log, square root) to reduce the impact of outliers.\n",
        "\n",
        "Use Case: When outliers are valid but their influence needs to be minimized.\n",
        "\n",
        "Example: Applying a log transformation to skewed data with extreme values.\n",
        "\n",
        "    Imputation (or Capping):\n",
        "\n",
        "Description: Replace outliers with a specific value, such as a percentile (e.g., 5th or 95th).\n",
        "\n",
        "Use Case: When you want to retain all data but limit the effect of extreme values.\n",
        "\n",
        "Example: Using Winsorization, where extreme values are capped at a certain percentile."
      ],
      "metadata": {
        "id": "Fd_ImSmlIihn"
      }
    },
    {
      "cell_type": "markdown",
      "source": [
        "Q.5.\n",
        "\n",
        "Ans\n",
        "\n",
        "Process of Handling Missing Values (Theory)\n",
        "\n",
        "    1. Identification\n",
        "\n",
        "The first step is to detect where and how much data is missing.\n",
        "\n",
        "This can be done through summary statistics or by examining data tables.\n",
        "\n",
        "It's important to determine whether the missing values are in a small portion or a significant part of the dataset.\n",
        "\n",
        "    2. Understanding the Type of Missingness\n",
        "\n",
        "Missing data is typically classified into three categories:\n",
        "\n",
        "MCAR (Missing Completely at Random): The missing values are unrelated to any other data.\n",
        "\n",
        "MAR (Missing at Random): The missingness is related to observed data.\n",
        "\n",
        "MNAR (Missing Not at Random): The missingness is related to unobserved data (more difficult to handle).\n",
        "\n",
        "Understanding this helps in choosing the appropriate imputation method.\n",
        "\n",
        "    3. Selecting a Strategy\n",
        "\n",
        "There are several ways to handle missing values:\n",
        "\n",
        "Deletion: Removing rows or columns with missing data (only if the proportion is very small).\n",
        "\n",
        "Imputation: Replacing missing values with estimated ones based on other available data.\n",
        "\n",
        "Prediction Models: Using regression or machine learning models to predict missing values.\n",
        "\n",
        "Imputation is a common and effective approach when deletion is not suitable."
      ],
      "metadata": {
        "id": "dF2wsUV6L3ZT"
      }
    },
    {
      "cell_type": "markdown",
      "source": [
        "Q.6\n"
      ],
      "metadata": {
        "id": "v9y_jFxaNTQ1"
      }
    },
    {
      "cell_type": "code",
      "execution_count": 1,
      "metadata": {
        "colab": {
          "base_uri": "https://localhost:8080/"
        },
        "id": "oMpO3xNcHyyx",
        "outputId": "93818e14-b2e9-4771-e4a0-c96f71bd43df"
      },
      "outputs": [
        {
          "output_type": "stream",
          "name": "stdout",
          "text": [
            "Class Distribution:\n",
            "Class 0: 900 samples\n",
            "Class 1: 100 samples\n"
          ]
        }
      ],
      "source": [
        "from sklearn.datasets import make_classification\n",
        "from collections import Counter\n",
        "import numpy as np\n",
        "\n",
        "# Step 1: Create synthetic imbalanced dataset\n",
        "X, y = make_classification(n_samples=1000,     # Total samples\n",
        "                           n_features=10,      # Number of features\n",
        "                           n_informative=5,    # Number of informative features\n",
        "                           n_redundant=2,      # Number of redundant features\n",
        "                           n_clusters_per_class=1,\n",
        "                           weights=[0.9, 0.1],  # Imbalance: 90% of class 0, 10% of class 1\n",
        "                           flip_y=0,           # No label noise\n",
        "                           random_state=42)    # For reproducibility\n",
        "\n",
        "# Step 2: Print class distribution\n",
        "class_distribution = Counter(y)\n",
        "print(\"Class Distribution:\")\n",
        "for label, count in class_distribution.items():\n",
        "    print(f\"Class {label}: {count} samples\")\n"
      ]
    },
    {
      "cell_type": "markdown",
      "source": [
        "Q.7.\n",
        "\n",
        "Ans\n"
      ],
      "metadata": {
        "id": "P5gAzka40CJP"
      }
    },
    {
      "cell_type": "code",
      "source": [
        "import pandas as pd\n",
        "\n",
        "# List of colors\n",
        "colors = ['Red', 'Green', 'Blue', 'Green', 'Red']\n",
        "\n",
        "# Convert to DataFrame\n",
        "df = pd.DataFrame({'Color': colors})\n",
        "\n",
        "# Apply one-hot encoding\n",
        "one_hot_encoded = pd.get_dummies(df, columns=['Color'])\n",
        "\n",
        "# Print the resulting DataFrame\n",
        "print(one_hot_encoded)\n"
      ],
      "metadata": {
        "colab": {
          "base_uri": "https://localhost:8080/"
        },
        "id": "WoT4VHDdz-2v",
        "outputId": "d939c0c1-938c-4dbf-da34-355e9d13d458"
      },
      "execution_count": 2,
      "outputs": [
        {
          "output_type": "stream",
          "name": "stdout",
          "text": [
            "   Color_Blue  Color_Green  Color_Red\n",
            "0       False        False       True\n",
            "1       False         True      False\n",
            "2        True        False      False\n",
            "3       False         True      False\n",
            "4       False        False       True\n"
          ]
        }
      ]
    },
    {
      "cell_type": "code",
      "source": [],
      "metadata": {
        "id": "k2RxMB6a7GtJ"
      },
      "execution_count": null,
      "outputs": []
    },
    {
      "cell_type": "markdown",
      "source": [
        "Q.8.\n",
        "\n",
        "Ans\n"
      ],
      "metadata": {
        "id": "JVIcHlcS1Rcp"
      }
    },
    {
      "cell_type": "code",
      "source": [
        "import numpy as np\n",
        "import pandas as pd\n",
        "import matplotlib.pyplot as plt\n",
        "\n",
        "# Step 1: Generate 1000 samples from a normal distribution\n",
        "np.random.seed(42)  # For reproducibility\n",
        "data = np.random.normal(loc=0, scale=1, size=1000)\n",
        "\n",
        "# Convert to pandas DataFrame\n",
        "df = pd.DataFrame(data, columns=['Value'])\n",
        "\n",
        "# Step 2: Introduce 50 random missing values\n",
        "missing_indices = np.random.choice(df.index, size=50, replace=False)\n",
        "df.loc[missing_indices, 'Value'] = np.nan\n",
        "\n",
        "# Save a copy before imputation for comparison\n",
        "df_before = df.copy()\n",
        "\n",
        "# Step 3: Fill missing values with column mean\n",
        "mean_value = df['Value'].mean()\n",
        "df['Value'].fillna(mean_value, inplace=True)\n",
        "\n",
        "# Step 4: Plot histograms before and after imputation\n",
        "plt.figure(figsize=(12, 5))\n",
        "\n",
        "# Before Imputation\n",
        "plt.subplot(1, 2, 1)\n",
        "plt.hist(df_before['Value'].dropna(), bins=30, color='skyblue', edgecolor='black')\n",
        "plt.title('Histogram Before Imputation')\n",
        "plt.xlabel('Value')\n",
        "plt.ylabel('Frequency')\n",
        "\n",
        "# After Imputation\n",
        "plt.subplot(1, 2, 2)\n",
        "plt.hist(df['Value'], bins=30, color='lightgreen', edgecolor='black')\n",
        "plt.title('Histogram After Imputation')\n",
        "plt.xlabel('Value')\n",
        "plt.ylabel('Frequency')\n",
        "\n",
        "plt.tight_layout()\n",
        "plt.show()\n"
      ],
      "metadata": {
        "colab": {
          "base_uri": "https://localhost:8080/",
          "height": 648
        },
        "id": "I8xP6yDf1eGp",
        "outputId": "a0461212-9860-4ece-d52a-135b51900fe1"
      },
      "execution_count": 5,
      "outputs": [
        {
          "output_type": "stream",
          "name": "stderr",
          "text": [
            "/tmp/ipython-input-3488197441.py:21: FutureWarning: A value is trying to be set on a copy of a DataFrame or Series through chained assignment using an inplace method.\n",
            "The behavior will change in pandas 3.0. This inplace method will never work because the intermediate object on which we are setting values always behaves as a copy.\n",
            "\n",
            "For example, when doing 'df[col].method(value, inplace=True)', try using 'df.method({col: value}, inplace=True)' or df[col] = df[col].method(value) instead, to perform the operation inplace on the original object.\n",
            "\n",
            "\n",
            "  df['Value'].fillna(mean_value, inplace=True)\n"
          ]
        },
        {
          "output_type": "display_data",
          "data": {
            "text/plain": [
              "<Figure size 1200x500 with 2 Axes>"
            ],
            "image/png": "[encoded data removed]"
          },
          "metadata": {}
        }
      ]
    },
    {
      "cell_type": "markdown",
      "source": [
        "Q.9.\n",
        "\n",
        "Ans\n",
        "\n"
      ],
      "metadata": {
        "id": "7bmie2im7zhm"
      }
    },
    {
      "cell_type": "code",
      "source": [
        "from sklearn.preprocessing import MinMaxScaler\n",
        "import numpy as np\n",
        "\n",
        "# Original data\n",
        "data = np.array([2, 5, 10, 15, 20]).reshape(-1, 1)  # reshape to 2D array\n",
        "\n",
        "# Initialize MinMaxScaler\n",
        "scaler = MinMaxScaler()\n",
        "\n",
        "# Fit and transform data\n",
        "scaled_data = scaler.fit_transform(data)\n",
        "\n",
        "# Print scaled array (flattened for readability)\n",
        "print(scaled_data.flatten())\n"
      ],
      "metadata": {
        "colab": {
          "base_uri": "https://localhost:8080/"
        },
        "id": "8iI9a5oJ712T",
        "outputId": "cb759455-2f2b-4e4d-ef55-70d4dbae79ab"
      },
      "execution_count": 21,
      "outputs": [
        {
          "output_type": "stream",
          "name": "stdout",
          "text": [
            "[0.         0.16666667 0.44444444 0.72222222 1.        ]\n"
          ]
        }
      ]
    },
    {
      "cell_type": "markdown",
      "source": [
        "Q.10..\n",
        "\n",
        "Ans\n"
      ],
      "metadata": {
        "id": "6mwYgyoX4UC7"
      }
    },
    {
      "cell_type": "code",
      "source": [
        "import pandas as pd\n",
        "import numpy as np\n",
        "from sklearn.model_selection import train_test_split\n",
        "from sklearn.preprocessing import StandardScaler, OneHotEncoder\n",
        "from sklearn.impute import SimpleImputer\n",
        "from sklearn.compose import ColumnTransformer\n",
        "from sklearn.pipeline import Pipeline\n",
        "from sklearn.ensemble import RandomForestClassifier\n",
        "from sklearn.metrics import classification_report\n",
        "from imblearn.over_sampling import SMOTE\n",
        "from sklearn.linear_model import LogisticRegression\n",
        "\n",
        "# Step 1: Load and inspect data\n",
        "df = pd.read_csv(\"transactions.csv\")\n",
        "print(df.info())\n",
        "print(df.describe())\n",
        "print(df['is_fraud'].value_counts())  # Imbalance check\n",
        "\n",
        "# Step 2: Handle missing ages\n",
        "age_imputer = SimpleImputer(strategy='median')\n",
        "df['Age'] = age_imputer.fit_transform(df[['Age']])\n",
        "df['age_missing'] = df['Age'].isnull().astype(int)  # Flag missingness\n",
        "\n",
        "# Step 3: Treat outliers in transaction amount\n",
        "q_low = df['TransactionAmount'].quantile(0.01)\n",
        "q_high = df['TransactionAmount'].quantile(0.99)\n",
        "df['TransactionAmount'] = df['TransactionAmount'].clip(q_low, q_high)\n",
        "\n",
        "# Optional: Log transform\n",
        "df['log_amount'] = np.log1p(df['TransactionAmount'])\n",
        "\n",
        "# Step 4: Encode categorical variables\n",
        "df = pd.get_dummies(df, columns=['PaymentMethod'], drop_first=True)\n",
        "\n",
        "# Step 5: Split features and target\n",
        "X = df.drop('is_fraud', axis=1)\n",
        "y = df['is_fraud']\n",
        "\n",
        "# Step 6: Train-test split with stratification\n",
        "X_train, X_test, y_train, y_test = train_test_split(X, y, stratify=y, test_size=0.2, random_state=42)\n",
        "\n",
        "# Step 7: Handle class imbalance with SMOTE\n",
        "smote = SMOTE(random_state=42)\n",
        "X_train_res, y_train_res = smote.fit_resample(X_train, y_train)\n",
        "print(\"After SMOTE:\", np.bincount(y_train_res))\n",
        "\n",
        "# Step 8: Scale features\n",
        "scaler = StandardScaler()\n",
        "X_train_scaled = scaler.fit_transform(X_train_res)\n",
        "X_test_scaled = scaler.transform(X_test)\n",
        "\n",
        "# Step 9: Train model\n",
        "model = LogisticRegression(class_weight='balanced', random_state=42)\n",
        "model.fit(X_train_scaled, y_train_res)\n",
        "\n",
        "# Step 10: Evaluate\n",
        "y_pred = model.predict(X_test_scaled)\n",
        "print(classification_report(y_test, y_pred))"
      ],
      "metadata": {
        "colab": {
          "base_uri": "https://localhost:8080/"
        },
        "id": "GEMQZORz6b8W",
        "outputId": "4c6c610e-5af6-4ca8-feef-096fdbe2b931"
      },
      "execution_count": 18,
      "outputs": [
        {
          "output_type": "stream",
          "name": "stdout",
          "text": [
            "<class 'pandas.core.frame.DataFrame'>\n",
            "RangeIndex: 1000 entries, 0 to 999\n",
            "Data columns (total 4 columns):\n",
            " #   Column             Non-Null Count  Dtype  \n",
            "---  ------             --------------  -----  \n",
            " 0   Age                1000 non-null   int64  \n",
            " 1   TransactionAmount  1000 non-null   float64\n",
            " 2   PaymentMethod      1000 non-null   object \n",
            " 3   is_fraud           1000 non-null   int64  \n",
            "dtypes: float64(1), int64(2), object(1)\n",
            "memory usage: 31.4+ KB\n",
            "None\n",
            "               Age  TransactionAmount    is_fraud\n",
            "count  1000.000000        1000.000000  1000.00000\n",
            "mean     48.236000          99.788723     0.47300\n",
            "std      18.181388          58.025932     0.49952\n",
            "min      18.000000           0.783675     0.00000\n",
            "25%      32.000000          48.878998     0.00000\n",
            "50%      48.000000         100.474505     0.00000\n",
            "75%      64.250000         149.636137     1.00000\n",
            "max      79.000000         199.892136     1.00000\n",
            "is_fraud\n",
            "0    527\n",
            "1    473\n",
            "Name: count, dtype: int64\n",
            "After SMOTE: [422 422]\n",
            "              precision    recall  f1-score   support\n",
            "\n",
            "           0       0.49      0.69      0.57       105\n",
            "           1       0.38      0.21      0.27        95\n",
            "\n",
            "    accuracy                           0.46       200\n",
            "   macro avg       0.43      0.45      0.42       200\n",
            "weighted avg       0.44      0.46      0.43       200\n",
            "\n"
          ]
        }
      ]
    },
    {
      "cell_type": "code",
      "source": [],
      "metadata": {
        "id": "_lOfrrLc60nN"
      },
      "execution_count": null,
      "outputs": []
    }
  ]
}